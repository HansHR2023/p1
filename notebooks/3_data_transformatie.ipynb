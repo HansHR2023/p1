{
 "cells": [
  {
   "cell_type": "markdown",
   "id": "8ff21ea5-4315-4c95-9e45-3097abb00d7a",
   "metadata": {},
   "source": [
    "<div>\n",
    "    <em><h1>Health Marketing</h1></em>\n",
    "    <img width=\"10%\" height=\"10%\" src='pics/aiHealth_01.jpg'/>\n",
    "    \n",
    "    \n",
    "</div>\n",
    "<div>\n",
    "    <p>\n",
    "    <em>Stap 3:</em>\n",
    "    <br>\n",
    "    <em>Data transformatie: cleaning (opschonen van de data)</em>\n",
    "        <br>\n",
    "    <em>Author: Hans Olthoff</em>\n",
    "    </p>    \n",
    "</div>\n",
    "\n"
   ]
  },
  {
   "cell_type": "code",
   "execution_count": 1,
   "id": "c8aec775-0561-46ef-a479-2600a3eff748",
   "metadata": {},
   "outputs": [],
   "source": [
    "import pandas as pd\n",
    "import numpy as np\n",
    "import seaborn as sns\n",
    "import matplotlib.pyplot as plt\n",
    "%matplotlib inline\n",
    "sns.set(color_codes=True)"
   ]
  },
  {
   "cell_type": "markdown",
   "id": "d611ea5a-6077-4b2f-af24-2b6dbd5e9689",
   "metadata": {},
   "source": [
    "During this project the dataset is changed from raw_data_1.csv to raw_data_2.csv \n",
    "\n",
    "In this nb raw_data_2.csv is used "
   ]
  },
  {
   "cell_type": "code",
   "execution_count": 2,
   "id": "b729d719-890f-438f-a425-bcdf30f735cd",
   "metadata": {},
   "outputs": [],
   "source": [
    "\n",
    "# add index_col = 0 for raw_data_1.csv from api. Now use raw_data_2.csv as provided by teams without index_col=1\n",
    "# df = pd.read_csv('data/raw_data_2.csv', index_col = 0)\n",
    "df = pd.read_csv('data/raw_data_2.csv')\n"
   ]
  },
  {
   "cell_type": "code",
   "execution_count": 3,
   "id": "7ef55fef-4378-479e-b412-075c7eb62e13",
   "metadata": {},
   "outputs": [
    {
     "data": {
      "text/html": [
       "<div>\n",
       "<style scoped>\n",
       "    .dataframe tbody tr th:only-of-type {\n",
       "        vertical-align: middle;\n",
       "    }\n",
       "\n",
       "    .dataframe tbody tr th {\n",
       "        vertical-align: top;\n",
       "    }\n",
       "\n",
       "    .dataframe thead th {\n",
       "        text-align: right;\n",
       "    }\n",
       "</style>\n",
       "<table border=\"1\" class=\"dataframe\">\n",
       "  <thead>\n",
       "    <tr style=\"text-align: right;\">\n",
       "      <th></th>\n",
       "      <th>genetic</th>\n",
       "      <th>length</th>\n",
       "      <th>mass</th>\n",
       "      <th>exercise</th>\n",
       "      <th>smoking</th>\n",
       "      <th>alcohol</th>\n",
       "      <th>sugar</th>\n",
       "      <th>lifespan</th>\n",
       "    </tr>\n",
       "  </thead>\n",
       "  <tbody>\n",
       "    <tr>\n",
       "      <th>0</th>\n",
       "      <td>73.9</td>\n",
       "      <td>185</td>\n",
       "      <td>99.7</td>\n",
       "      <td>0.9</td>\n",
       "      <td>0.0</td>\n",
       "      <td>2.4</td>\n",
       "      <td>6.9</td>\n",
       "      <td>73.1</td>\n",
       "    </tr>\n",
       "    <tr>\n",
       "      <th>1</th>\n",
       "      <td>86.0</td>\n",
       "      <td>172</td>\n",
       "      <td>105.4</td>\n",
       "      <td>1.8</td>\n",
       "      <td>8.1</td>\n",
       "      <td>0.4</td>\n",
       "      <td>4.2</td>\n",
       "      <td>85.0</td>\n",
       "    </tr>\n",
       "    <tr>\n",
       "      <th>2</th>\n",
       "      <td>83.3</td>\n",
       "      <td>176</td>\n",
       "      <td>111.4</td>\n",
       "      <td>1.1</td>\n",
       "      <td>0.8</td>\n",
       "      <td>4.6</td>\n",
       "      <td>7.5</td>\n",
       "      <td>81.6</td>\n",
       "    </tr>\n",
       "    <tr>\n",
       "      <th>3</th>\n",
       "      <td>82.8</td>\n",
       "      <td>164</td>\n",
       "      <td>111.4</td>\n",
       "      <td>4.7</td>\n",
       "      <td>11.8</td>\n",
       "      <td>1.0</td>\n",
       "      <td>2.9</td>\n",
       "      <td>81.0</td>\n",
       "    </tr>\n",
       "    <tr>\n",
       "      <th>4</th>\n",
       "      <td>78.7</td>\n",
       "      <td>178</td>\n",
       "      <td>71.6</td>\n",
       "      <td>1.5</td>\n",
       "      <td>8.3</td>\n",
       "      <td>4.9</td>\n",
       "      <td>5.5</td>\n",
       "      <td>75.0</td>\n",
       "    </tr>\n",
       "    <tr>\n",
       "      <th>...</th>\n",
       "      <td>...</td>\n",
       "      <td>...</td>\n",
       "      <td>...</td>\n",
       "      <td>...</td>\n",
       "      <td>...</td>\n",
       "      <td>...</td>\n",
       "      <td>...</td>\n",
       "      <td>...</td>\n",
       "    </tr>\n",
       "    <tr>\n",
       "      <th>4091</th>\n",
       "      <td>80.3</td>\n",
       "      <td>176</td>\n",
       "      <td>115.9</td>\n",
       "      <td>3.7</td>\n",
       "      <td>0.1</td>\n",
       "      <td>5.6</td>\n",
       "      <td>5.8</td>\n",
       "      <td>80.7</td>\n",
       "    </tr>\n",
       "    <tr>\n",
       "      <th>4092</th>\n",
       "      <td>75.3</td>\n",
       "      <td>162</td>\n",
       "      <td>129.6</td>\n",
       "      <td>3.6</td>\n",
       "      <td>6.2</td>\n",
       "      <td>5.6</td>\n",
       "      <td>7.6</td>\n",
       "      <td>71.1</td>\n",
       "    </tr>\n",
       "    <tr>\n",
       "      <th>4093</th>\n",
       "      <td>93.1</td>\n",
       "      <td>189</td>\n",
       "      <td>115.3</td>\n",
       "      <td>2.7</td>\n",
       "      <td>9.4</td>\n",
       "      <td>4.9</td>\n",
       "      <td>6.6</td>\n",
       "      <td>90.0</td>\n",
       "    </tr>\n",
       "    <tr>\n",
       "      <th>4094</th>\n",
       "      <td>77.9</td>\n",
       "      <td>170</td>\n",
       "      <td>90.8</td>\n",
       "      <td>2.3</td>\n",
       "      <td>13.2</td>\n",
       "      <td>0.8</td>\n",
       "      <td>6.2</td>\n",
       "      <td>75.9</td>\n",
       "    </tr>\n",
       "    <tr>\n",
       "      <th>4095</th>\n",
       "      <td>101.3</td>\n",
       "      <td>188</td>\n",
       "      <td>129.2</td>\n",
       "      <td>1.2</td>\n",
       "      <td>8.2</td>\n",
       "      <td>6.0</td>\n",
       "      <td>6.2</td>\n",
       "      <td>96.9</td>\n",
       "    </tr>\n",
       "  </tbody>\n",
       "</table>\n",
       "<p>4096 rows × 8 columns</p>\n",
       "</div>"
      ],
      "text/plain": [
       "     genetic length   mass exercise  smoking alcohol sugar  lifespan\n",
       "0       73.9    185   99.7      0.9      0.0     2.4   6.9      73.1\n",
       "1       86.0    172  105.4      1.8      8.1     0.4   4.2      85.0\n",
       "2       83.3    176  111.4      1.1      0.8     4.6   7.5      81.6\n",
       "3       82.8    164  111.4      4.7     11.8     1.0   2.9      81.0\n",
       "4       78.7    178   71.6      1.5      8.3     4.9   5.5      75.0\n",
       "...      ...    ...    ...      ...      ...     ...   ...       ...\n",
       "4091    80.3    176  115.9      3.7      0.1     5.6   5.8      80.7\n",
       "4092    75.3    162  129.6      3.6      6.2     5.6   7.6      71.1\n",
       "4093    93.1    189  115.3      2.7      9.4     4.9   6.6      90.0\n",
       "4094    77.9    170   90.8      2.3     13.2     0.8   6.2      75.9\n",
       "4095   101.3    188  129.2      1.2      8.2     6.0   6.2      96.9\n",
       "\n",
       "[4096 rows x 8 columns]"
      ]
     },
     "execution_count": 3,
     "metadata": {},
     "output_type": "execute_result"
    }
   ],
   "source": [
    "df"
   ]
  },
  {
   "cell_type": "markdown",
   "id": "17f7a14f-c9a3-4f7f-9d95-170919656cb2",
   "metadata": {},
   "source": [
    "General checks on the data:\n",
    "- are there NaNs?\n",
    "- are ther duplicates?\n",
    "- are there outliers?\n",
    "\n",
    "And what do with them? In this case:\n",
    "- remove NaNs\n",
    "- remove duplicates \n",
    "- leave outliers"
   ]
  },
  {
   "cell_type": "code",
   "execution_count": 4,
   "id": "526fa1bb-70e3-46d1-a8a5-1063230b7146",
   "metadata": {},
   "outputs": [
    {
     "name": "stdout",
     "output_type": "stream",
     "text": [
      "<class 'pandas.core.frame.DataFrame'>\n",
      "RangeIndex: 4096 entries, 0 to 4095\n",
      "Data columns (total 8 columns):\n",
      " #   Column    Non-Null Count  Dtype  \n",
      "---  ------    --------------  -----  \n",
      " 0   genetic   4096 non-null   object \n",
      " 1   length    4096 non-null   object \n",
      " 2   mass      4096 non-null   object \n",
      " 3   exercise  4096 non-null   object \n",
      " 4   smoking   4096 non-null   float64\n",
      " 5   alcohol   4096 non-null   object \n",
      " 6   sugar     4096 non-null   object \n",
      " 7   lifespan  4096 non-null   float64\n",
      "dtypes: float64(2), object(6)\n",
      "memory usage: 256.1+ KB\n"
     ]
    }
   ],
   "source": [
    "df.info()"
   ]
  },
  {
   "cell_type": "code",
   "execution_count": 5,
   "id": "35cf1e53-3c8b-4184-8376-11d10002d525",
   "metadata": {},
   "outputs": [
    {
     "name": "stdout",
     "output_type": "stream",
     "text": [
      "<class 'pandas.core.frame.DataFrame'>\n",
      "RangeIndex: 4096 entries, 0 to 4095\n",
      "Data columns (total 8 columns):\n",
      " #   Column    Non-Null Count  Dtype  \n",
      "---  ------    --------------  -----  \n",
      " 0   genetic   4096 non-null   object \n",
      " 1   length    4096 non-null   object \n",
      " 2   mass      4096 non-null   object \n",
      " 3   exercise  4096 non-null   object \n",
      " 4   smoking   4096 non-null   float64\n",
      " 5   alcohol   4096 non-null   object \n",
      " 6   sugar     4096 non-null   object \n",
      " 7   lifespan  4096 non-null   float64\n",
      "dtypes: float64(2), object(6)\n",
      "memory usage: 256.1+ KB\n"
     ]
    },
    {
     "data": {
      "text/plain": [
       "None"
      ]
     },
     "metadata": {},
     "output_type": "display_data"
    }
   ],
   "source": [
    "# remove NaNs if any (present in raw_data_1.csv)\n",
    "# add .copy() in order to add columns later\n",
    "df = df.dropna().copy()\n",
    "display(df.info())"
   ]
  },
  {
   "cell_type": "code",
   "execution_count": 6,
   "id": "011bc084-5d17-49df-a179-79cb19d49c26",
   "metadata": {},
   "outputs": [
    {
     "data": {
      "text/html": [
       "<div>\n",
       "<style scoped>\n",
       "    .dataframe tbody tr th:only-of-type {\n",
       "        vertical-align: middle;\n",
       "    }\n",
       "\n",
       "    .dataframe tbody tr th {\n",
       "        vertical-align: top;\n",
       "    }\n",
       "\n",
       "    .dataframe thead th {\n",
       "        text-align: right;\n",
       "    }\n",
       "</style>\n",
       "<table border=\"1\" class=\"dataframe\">\n",
       "  <thead>\n",
       "    <tr style=\"text-align: right;\">\n",
       "      <th></th>\n",
       "      <th>genetic</th>\n",
       "      <th>length</th>\n",
       "      <th>mass</th>\n",
       "      <th>exercise</th>\n",
       "      <th>smoking</th>\n",
       "      <th>alcohol</th>\n",
       "      <th>sugar</th>\n",
       "      <th>lifespan</th>\n",
       "    </tr>\n",
       "  </thead>\n",
       "  <tbody>\n",
       "  </tbody>\n",
       "</table>\n",
       "</div>"
      ],
      "text/plain": [
       "Empty DataFrame\n",
       "Columns: [genetic, length, mass, exercise, smoking, alcohol, sugar, lifespan]\n",
       "Index: []"
      ]
     },
     "metadata": {},
     "output_type": "display_data"
    }
   ],
   "source": [
    "# check for duplicate rows and remove if any (not present)\n",
    "duplicateRows = df[df.duplicated()]\n",
    "display(duplicateRows)"
   ]
  },
  {
   "cell_type": "code",
   "execution_count": 7,
   "id": "0800a285-61fa-49a0-9168-6c194ebca520",
   "metadata": {},
   "outputs": [
    {
     "name": "stdout",
     "output_type": "stream",
     "text": [
      "<class 'pandas.core.frame.DataFrame'>\n",
      "Int64Index: 4096 entries, 0 to 4095\n",
      "Data columns (total 8 columns):\n",
      " #   Column    Non-Null Count  Dtype  \n",
      "---  ------    --------------  -----  \n",
      " 0   genetic   4096 non-null   object \n",
      " 1   length    4096 non-null   object \n",
      " 2   mass      4096 non-null   object \n",
      " 3   exercise  4096 non-null   object \n",
      " 4   smoking   4096 non-null   float64\n",
      " 5   alcohol   4096 non-null   object \n",
      " 6   sugar     4096 non-null   object \n",
      " 7   lifespan  4096 non-null   float64\n",
      "dtypes: float64(2), object(6)\n",
      "memory usage: 288.0+ KB\n"
     ]
    },
    {
     "data": {
      "text/plain": [
       "None"
      ]
     },
     "metadata": {},
     "output_type": "display_data"
    }
   ],
   "source": [
    "df = df.drop_duplicates().copy()\n",
    "display(df.info())"
   ]
  },
  {
   "cell_type": "markdown",
   "id": "e55f964f-4c64-4102-850c-5ec9ac00169b",
   "metadata": {},
   "source": [
    "Additional checks specific for this data set:\n",
    "\n",
    "There are fields with ? and 'undefined' in it. "
   ]
  },
  {
   "cell_type": "code",
   "execution_count": 8,
   "id": "26fa9590-facf-49ef-b495-745a345c62a5",
   "metadata": {},
   "outputs": [
    {
     "data": {
      "text/html": [
       "<div>\n",
       "<style scoped>\n",
       "    .dataframe tbody tr th:only-of-type {\n",
       "        vertical-align: middle;\n",
       "    }\n",
       "\n",
       "    .dataframe tbody tr th {\n",
       "        vertical-align: top;\n",
       "    }\n",
       "\n",
       "    .dataframe thead th {\n",
       "        text-align: right;\n",
       "    }\n",
       "</style>\n",
       "<table border=\"1\" class=\"dataframe\">\n",
       "  <thead>\n",
       "    <tr style=\"text-align: right;\">\n",
       "      <th></th>\n",
       "      <th>smoking</th>\n",
       "      <th>lifespan</th>\n",
       "    </tr>\n",
       "  </thead>\n",
       "  <tbody>\n",
       "    <tr>\n",
       "      <th>count</th>\n",
       "      <td>4096.000000</td>\n",
       "      <td>4096.000000</td>\n",
       "    </tr>\n",
       "    <tr>\n",
       "      <th>mean</th>\n",
       "      <td>9.807446</td>\n",
       "      <td>80.127783</td>\n",
       "    </tr>\n",
       "    <tr>\n",
       "      <th>std</th>\n",
       "      <td>6.921461</td>\n",
       "      <td>8.042270</td>\n",
       "    </tr>\n",
       "    <tr>\n",
       "      <th>min</th>\n",
       "      <td>0.000000</td>\n",
       "      <td>-1.000000</td>\n",
       "    </tr>\n",
       "    <tr>\n",
       "      <th>25%</th>\n",
       "      <td>3.300000</td>\n",
       "      <td>75.000000</td>\n",
       "    </tr>\n",
       "    <tr>\n",
       "      <th>50%</th>\n",
       "      <td>9.500000</td>\n",
       "      <td>79.700000</td>\n",
       "    </tr>\n",
       "    <tr>\n",
       "      <th>75%</th>\n",
       "      <td>15.900000</td>\n",
       "      <td>85.200000</td>\n",
       "    </tr>\n",
       "    <tr>\n",
       "      <th>max</th>\n",
       "      <td>22.200000</td>\n",
       "      <td>105.100000</td>\n",
       "    </tr>\n",
       "  </tbody>\n",
       "</table>\n",
       "</div>"
      ],
      "text/plain": [
       "           smoking     lifespan\n",
       "count  4096.000000  4096.000000\n",
       "mean      9.807446    80.127783\n",
       "std       6.921461     8.042270\n",
       "min       0.000000    -1.000000\n",
       "25%       3.300000    75.000000\n",
       "50%       9.500000    79.700000\n",
       "75%      15.900000    85.200000\n",
       "max      22.200000   105.100000"
      ]
     },
     "execution_count": 8,
     "metadata": {},
     "output_type": "execute_result"
    }
   ],
   "source": [
    "df.describe()\n",
    "# only 2 columns, because the rest has objects in it: those columns have to be fixed"
   ]
  },
  {
   "cell_type": "code",
   "execution_count": 31,
   "id": "5161234e-1d73-4385-83f0-4d47cbd0b52d",
   "metadata": {},
   "outputs": [
    {
     "data": {
      "text/plain": [
       "genetic     float64\n",
       "length      float64\n",
       "mass        float64\n",
       "exercise    float64\n",
       "smoking     float64\n",
       "alcohol     float64\n",
       "sugar       float64\n",
       "lifespan    float64\n",
       "dtype: object"
      ]
     },
     "execution_count": 31,
     "metadata": {},
     "output_type": "execute_result"
    }
   ],
   "source": [
    "# Turns objects into numeric values (NaN) and removes NaN\n",
    "\n",
    "df['genetic'] = pd.to_numeric(df['genetic'], errors='coerce')\n",
    "df['length'] = pd.to_numeric(df['length'], errors='coerce')\n",
    "df['mass'] = pd.to_numeric(df['mass'], errors='coerce')\n",
    "df['exercise'] = pd.to_numeric(df['exercise'], errors='coerce')\n",
    "df['alcohol'] = pd.to_numeric(df['alcohol'], errors='coerce')\n",
    "df['sugar'] = pd.to_numeric(df['sugar'], errors='coerce')\n",
    "\n",
    "\n",
    "df.astype('float64').dtypes"
   ]
  },
  {
   "cell_type": "code",
   "execution_count": 9,
   "id": "3af54770-fcba-4a39-bc31-31d9b9da26aa",
   "metadata": {},
   "outputs": [],
   "source": [
    "# previous step all in one line (and turning existing columns with dtype float into float again)\n",
    "for n in df.keys():\n",
    "    df[n] = pd.to_numeric(df[n], errors='coerce')\n",
    "    "
   ]
  },
  {
   "cell_type": "code",
   "execution_count": 10,
   "id": "0417fc8f-876e-4e8f-8274-7dd79dd737fd",
   "metadata": {},
   "outputs": [],
   "source": [
    "\n",
    "# this works, but is there an equivalent in pandas?"
   ]
  },
  {
   "cell_type": "code",
   "execution_count": 11,
   "id": "823952f7-aa87-4e38-9a0a-c734da78a523",
   "metadata": {},
   "outputs": [
    {
     "name": "stdout",
     "output_type": "stream",
     "text": [
      "<class 'pandas.core.frame.DataFrame'>\n",
      "Int64Index: 4096 entries, 0 to 4095\n",
      "Data columns (total 8 columns):\n",
      " #   Column    Non-Null Count  Dtype  \n",
      "---  ------    --------------  -----  \n",
      " 0   genetic   4095 non-null   float64\n",
      " 1   length    4093 non-null   float64\n",
      " 2   mass      4094 non-null   float64\n",
      " 3   exercise  4095 non-null   float64\n",
      " 4   smoking   4096 non-null   float64\n",
      " 5   alcohol   4094 non-null   float64\n",
      " 6   sugar     4095 non-null   float64\n",
      " 7   lifespan  4096 non-null   float64\n",
      "dtypes: float64(8)\n",
      "memory usage: 288.0 KB\n"
     ]
    }
   ],
   "source": [
    "df.info()\n"
   ]
  },
  {
   "cell_type": "code",
   "execution_count": 14,
   "id": "1e36d58a-d702-4cb7-ba14-d341a702a031",
   "metadata": {},
   "outputs": [
    {
     "name": "stdout",
     "output_type": "stream",
     "text": [
      "<class 'pandas.core.frame.DataFrame'>\n",
      "Int64Index: 4086 entries, 0 to 4095\n",
      "Data columns (total 8 columns):\n",
      " #   Column    Non-Null Count  Dtype  \n",
      "---  ------    --------------  -----  \n",
      " 0   genetic   4086 non-null   float64\n",
      " 1   length    4086 non-null   float64\n",
      " 2   mass      4086 non-null   float64\n",
      " 3   exercise  4086 non-null   float64\n",
      " 4   smoking   4086 non-null   float64\n",
      " 5   alcohol   4086 non-null   float64\n",
      " 6   sugar     4086 non-null   float64\n",
      " 7   lifespan  4086 non-null   float64\n",
      "dtypes: float64(8)\n",
      "memory usage: 287.3 KB\n"
     ]
    },
    {
     "data": {
      "text/plain": [
       "None"
      ]
     },
     "metadata": {},
     "output_type": "display_data"
    }
   ],
   "source": [
    "# remove newly created NaNs\n",
    "\n",
    "df = df.dropna().copy()\n",
    "display(df.info())"
   ]
  },
  {
   "cell_type": "code",
   "execution_count": 16,
   "id": "6893b554-518b-45a9-80d6-49d4f556e667",
   "metadata": {},
   "outputs": [
    {
     "name": "stdout",
     "output_type": "stream",
     "text": [
      "<class 'pandas.core.frame.DataFrame'>\n",
      "Int64Index: 4086 entries, 0 to 4095\n",
      "Data columns (total 8 columns):\n",
      " #   Column    Non-Null Count  Dtype  \n",
      "---  ------    --------------  -----  \n",
      " 0   genetic   4086 non-null   float64\n",
      " 1   length    4086 non-null   float64\n",
      " 2   mass      4086 non-null   float64\n",
      " 3   exercise  4086 non-null   float64\n",
      " 4   smoking   4086 non-null   float64\n",
      " 5   alcohol   4086 non-null   float64\n",
      " 6   sugar     4086 non-null   float64\n",
      " 7   lifespan  4086 non-null   float64\n",
      "dtypes: float64(8)\n",
      "memory usage: 287.3 KB\n"
     ]
    },
    {
     "data": {
      "text/plain": [
       "None"
      ]
     },
     "metadata": {},
     "output_type": "display_data"
    }
   ],
   "source": [
    "# check on duplicates again, but not present\n",
    "df = df.drop_duplicates().copy()\n",
    "display(df.info())"
   ]
  },
  {
   "cell_type": "code",
   "execution_count": 17,
   "id": "a120aec2-04ea-435d-9232-b1c418638ae1",
   "metadata": {},
   "outputs": [],
   "source": [
    "# write df to csv for next steps\n",
    "df.to_csv('data/cleaned_data_2.csv')"
   ]
  },
  {
   "cell_type": "code",
   "execution_count": null,
   "id": "3d8aa37f-06ae-4456-8e7e-f98be3fef63f",
   "metadata": {},
   "outputs": [],
   "source": []
  }
 ],
 "metadata": {
  "kernelspec": {
   "display_name": "Python 3 (ipykernel)",
   "language": "python",
   "name": "python3"
  },
  "language_info": {
   "codemirror_mode": {
    "name": "ipython",
    "version": 3
   },
   "file_extension": ".py",
   "mimetype": "text/x-python",
   "name": "python",
   "nbconvert_exporter": "python",
   "pygments_lexer": "ipython3",
   "version": "3.10.9"
  }
 },
 "nbformat": 4,
 "nbformat_minor": 5
}
