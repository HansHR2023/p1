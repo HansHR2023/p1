{
 "cells": [
  {
   "cell_type": "markdown",
   "id": "33067ff4-1477-4d7d-8791-6d3d986b7419",
   "metadata": {},
   "source": [
    "<div>\n",
    "    <em><h1>Health Marketing</h1></em>\n",
    "    <img width=\"10%\" height=\"10%\" src='pics/aiHealth_01.jpg'/>\n",
    "    \n",
    "    \n",
    "</div>\n",
    "<div>\n",
    "    <p>\n",
    "    <em>Stap 5:</em>\n",
    "    <br>\n",
    "    <em>Data interpretatie: modelleren</em>\n",
    "        <br>\n",
    "    <em>Author: Hans Olthoff</em>\n",
    "    </p>    \n",
    "</div>"
   ]
  },
  {
   "cell_type": "code",
   "execution_count": 2,
   "id": "ed280de5-f2ca-4b8e-8074-69a6df21562d",
   "metadata": {},
   "outputs": [],
   "source": [
    "import sqlite3\n",
    "import pandas as pd\n",
    "import numpy as np\n",
    "import seaborn as sns\n",
    "import matplotlib.pyplot as plt\n",
    "%matplotlib inline\n",
    "sns.set(color_codes=True)"
   ]
  },
  {
   "cell_type": "markdown",
   "id": "901b27cf-0e50-41e0-a9d9-78c8b7f84391",
   "metadata": {},
   "source": [
    "Get data\n",
    "\n",
    "In the db are 3 tables: df1, df2, df3\n",
    "\n",
    "df1 is the complete set (NaNs replaced by mean value)\n",
    "df2 has extra colum BMI\n",
    "df3 has extra colum BMI AND outliers are removed"
   ]
  },
  {
   "cell_type": "code",
   "execution_count": 31,
   "id": "8bb92228-ed02-4af3-bc47-676021421a64",
   "metadata": {},
   "outputs": [],
   "source": [
    "dbConnection = sqlite3.connect('../rest_server_new/medisch_centrum_randstad/db.sqlite3')"
   ]
  },
  {
   "cell_type": "code",
   "execution_count": 32,
   "id": "ea84454f-9527-47c2-b002-a9b6439e234b",
   "metadata": {},
   "outputs": [],
   "source": [
    "df = pd.read_sql_query(f\"SELECT * FROM {'df2'}\", dbConnection)"
   ]
  },
  {
   "cell_type": "code",
   "execution_count": 33,
   "id": "70bd7c7d-6337-43f1-9b86-e3a793a2e821",
   "metadata": {},
   "outputs": [],
   "source": [
    "dbConnection.close()"
   ]
  },
  {
   "cell_type": "code",
   "execution_count": 98,
   "id": "66b73238-b47f-4e99-9b1e-2ff6a0defbb9",
   "metadata": {},
   "outputs": [],
   "source": [
    "df = pd.read_csv('data/df2.csv')"
   ]
  },
  {
   "cell_type": "markdown",
   "id": "de309a92-b17e-4495-931e-49ddccc3858b",
   "metadata": {},
   "source": [
    "Fit to model"
   ]
  },
  {
   "cell_type": "code",
   "execution_count": 100,
   "id": "9aa2bd49-666d-4be0-b88e-ba48cf9e1ebc",
   "metadata": {},
   "outputs": [],
   "source": [
    "from sklearn import linear_model \n",
    "from sklearn.model_selection import train_test_split"
   ]
  },
  {
   "cell_type": "code",
   "execution_count": null,
   "id": "4bec6075-5f36-4b18-ad73-999f5086ce9c",
   "metadata": {},
   "outputs": [],
   "source": []
  },
  {
   "cell_type": "code",
   "execution_count": 102,
   "id": "ae787fd1-b5a9-473e-8053-d730eb70a380",
   "metadata": {},
   "outputs": [],
   "source": [
    "# divide dataset into X predictors and y target\n",
    "# X = df.drop(['index', 'lifespan'], axis=1)\n",
    "X = df.drop(['lifespan'], axis=1)\n",
    "y = df[['lifespan']]\n",
    "\n",
    "# split data 80% training and 20% test with random state for reproducability\n",
    "X_train, X_test, y_train, y_test = train_test_split(X, y, test_size=0.2, random_state=42)"
   ]
  },
  {
   "cell_type": "code",
   "execution_count": null,
   "id": "a53b6517-c594-4eba-8921-d9211062c864",
   "metadata": {},
   "outputs": [],
   "source": [
    "# divide dataset into X predictors and y target\n",
    "X = df.drop(['index', 'mass', 'length', 'lifespan'], axis=1)\n",
    "y = df[['lifespan']]\n",
    "\n",
    "# split data 80% training and 20% test with random state for reproducability\n",
    "X_train, X_test, y_train, y_test = train_test_split(X, y, test_size=0.2, random_state=42)"
   ]
  },
  {
   "cell_type": "code",
   "execution_count": 103,
   "id": "78fe6c7d-75e4-4f5a-8f41-c51330b7097a",
   "metadata": {},
   "outputs": [
    {
     "data": {
      "text/html": [
       "<style>#sk-container-id-5 {color: black;background-color: white;}#sk-container-id-5 pre{padding: 0;}#sk-container-id-5 div.sk-toggleable {background-color: white;}#sk-container-id-5 label.sk-toggleable__label {cursor: pointer;display: block;width: 100%;margin-bottom: 0;padding: 0.3em;box-sizing: border-box;text-align: center;}#sk-container-id-5 label.sk-toggleable__label-arrow:before {content: \"▸\";float: left;margin-right: 0.25em;color: #696969;}#sk-container-id-5 label.sk-toggleable__label-arrow:hover:before {color: black;}#sk-container-id-5 div.sk-estimator:hover label.sk-toggleable__label-arrow:before {color: black;}#sk-container-id-5 div.sk-toggleable__content {max-height: 0;max-width: 0;overflow: hidden;text-align: left;background-color: #f0f8ff;}#sk-container-id-5 div.sk-toggleable__content pre {margin: 0.2em;color: black;border-radius: 0.25em;background-color: #f0f8ff;}#sk-container-id-5 input.sk-toggleable__control:checked~div.sk-toggleable__content {max-height: 200px;max-width: 100%;overflow: auto;}#sk-container-id-5 input.sk-toggleable__control:checked~label.sk-toggleable__label-arrow:before {content: \"▾\";}#sk-container-id-5 div.sk-estimator input.sk-toggleable__control:checked~label.sk-toggleable__label {background-color: #d4ebff;}#sk-container-id-5 div.sk-label input.sk-toggleable__control:checked~label.sk-toggleable__label {background-color: #d4ebff;}#sk-container-id-5 input.sk-hidden--visually {border: 0;clip: rect(1px 1px 1px 1px);clip: rect(1px, 1px, 1px, 1px);height: 1px;margin: -1px;overflow: hidden;padding: 0;position: absolute;width: 1px;}#sk-container-id-5 div.sk-estimator {font-family: monospace;background-color: #f0f8ff;border: 1px dotted black;border-radius: 0.25em;box-sizing: border-box;margin-bottom: 0.5em;}#sk-container-id-5 div.sk-estimator:hover {background-color: #d4ebff;}#sk-container-id-5 div.sk-parallel-item::after {content: \"\";width: 100%;border-bottom: 1px solid gray;flex-grow: 1;}#sk-container-id-5 div.sk-label:hover label.sk-toggleable__label {background-color: #d4ebff;}#sk-container-id-5 div.sk-serial::before {content: \"\";position: absolute;border-left: 1px solid gray;box-sizing: border-box;top: 0;bottom: 0;left: 50%;z-index: 0;}#sk-container-id-5 div.sk-serial {display: flex;flex-direction: column;align-items: center;background-color: white;padding-right: 0.2em;padding-left: 0.2em;position: relative;}#sk-container-id-5 div.sk-item {position: relative;z-index: 1;}#sk-container-id-5 div.sk-parallel {display: flex;align-items: stretch;justify-content: center;background-color: white;position: relative;}#sk-container-id-5 div.sk-item::before, #sk-container-id-5 div.sk-parallel-item::before {content: \"\";position: absolute;border-left: 1px solid gray;box-sizing: border-box;top: 0;bottom: 0;left: 50%;z-index: -1;}#sk-container-id-5 div.sk-parallel-item {display: flex;flex-direction: column;z-index: 1;position: relative;background-color: white;}#sk-container-id-5 div.sk-parallel-item:first-child::after {align-self: flex-end;width: 50%;}#sk-container-id-5 div.sk-parallel-item:last-child::after {align-self: flex-start;width: 50%;}#sk-container-id-5 div.sk-parallel-item:only-child::after {width: 0;}#sk-container-id-5 div.sk-dashed-wrapped {border: 1px dashed gray;margin: 0 0.4em 0.5em 0.4em;box-sizing: border-box;padding-bottom: 0.4em;background-color: white;}#sk-container-id-5 div.sk-label label {font-family: monospace;font-weight: bold;display: inline-block;line-height: 1.2em;}#sk-container-id-5 div.sk-label-container {text-align: center;}#sk-container-id-5 div.sk-container {/* jupyter's `normalize.less` sets `[hidden] { display: none; }` but bootstrap.min.css set `[hidden] { display: none !important; }` so we also need the `!important` here to be able to override the default hidden behavior on the sphinx rendered scikit-learn.org. See: https://github.com/scikit-learn/scikit-learn/issues/21755 */display: inline-block !important;position: relative;}#sk-container-id-5 div.sk-text-repr-fallback {display: none;}</style><div id=\"sk-container-id-5\" class=\"sk-top-container\"><div class=\"sk-text-repr-fallback\"><pre>LinearRegression()</pre><b>In a Jupyter environment, please rerun this cell to show the HTML representation or trust the notebook. <br />On GitHub, the HTML representation is unable to render, please try loading this page with nbviewer.org.</b></div><div class=\"sk-container\" hidden><div class=\"sk-item\"><div class=\"sk-estimator sk-toggleable\"><input class=\"sk-toggleable__control sk-hidden--visually\" id=\"sk-estimator-id-5\" type=\"checkbox\" checked><label for=\"sk-estimator-id-5\" class=\"sk-toggleable__label sk-toggleable__label-arrow\">LinearRegression</label><div class=\"sk-toggleable__content\"><pre>LinearRegression()</pre></div></div></div></div></div>"
      ],
      "text/plain": [
       "LinearRegression()"
      ]
     },
     "execution_count": 103,
     "metadata": {},
     "output_type": "execute_result"
    }
   ],
   "source": [
    "regr = linear_model.LinearRegression()\n",
    "regr.fit(X, y) "
   ]
  },
  {
   "cell_type": "markdown",
   "id": "96d2755e-54a2-4d53-86ca-2da75fe26b6f",
   "metadata": {},
   "source": [
    "RSME zegt hoeveel zit het gemiddeld van de lifespan tiv wat het model er van maakt dus hoe lager de RSME dan is het model beter want een lagere error is een betere voorspelling.\n",
    "\n",
    "Je kan ook kijken naar de derdeling van de RSMEs.\n",
    "\n",
    "Je kan ook:\n",
    "- je model testen\n",
    "- lse en r squared bekijken\n",
    "- decision tree en random forest proberen\n",
    "- \n",
    "\n",
    "\n",
    "\n"
   ]
  },
  {
   "cell_type": "code",
   "execution_count": 104,
   "id": "87e9ef5b-e024-49dd-9859-866088b86916",
   "metadata": {},
   "outputs": [
    {
     "data": {
      "image/png": "[encoded data removed]",
      "text/plain": [
       "<Figure size 640x480 with 1 Axes>"
      ]
     },
     "metadata": {},
     "output_type": "display_data"
    }
   ],
   "source": [
    "# y_test is called p_test, because y_test already exists\n",
    "p_test = regr.predict(X_test)\n",
    " \n",
    "plt.scatter(y_test,p_test,c='blue', alpha=0.4)\n",
    "plt.xlabel('True Values')\n",
    "plt.ylabel('Predictions')\n",
    " \n",
    "# plot diagonal line for comparison (prediction is exact)\n",
    "lims=[50,110]\n",
    "plt.xlim(lims)\n",
    "plt.ylim(lims)\n",
    "plt.plot(lims,lims,c='black',alpha=0.5)\n",
    "plt.show()"
   ]
  },
  {
   "cell_type": "code",
   "execution_count": null,
   "id": "ee7ab034-9634-4d83-b7d1-6fa539527671",
   "metadata": {},
   "outputs": [],
   "source": []
  },
  {
   "cell_type": "markdown",
   "id": "882b6308-7537-4b2f-a96f-b17d604e8368",
   "metadata": {},
   "source": [
    "LSE or Least Square Error to make the error as small as possible. That is what happens with FIT\n",
    "And the RMSE is the check on the fit."
   ]
  },
  {
   "cell_type": "code",
   "execution_count": 105,
   "id": "51d5142b-6847-4e2c-95eb-7c1690c31f97",
   "metadata": {},
   "outputs": [],
   "source": [
    "score = regr.score(X_test,y_test)\n",
    "# hier gebruik je de testdata om te checken"
   ]
  },
  {
   "cell_type": "code",
   "execution_count": 106,
   "id": "7d2d9eee-c61f-4053-9923-bb692040f048",
   "metadata": {},
   "outputs": [
    {
     "data": {
      "text/plain": [
       "0.9813763542328945"
      ]
     },
     "metadata": {},
     "output_type": "display_data"
    }
   ],
   "source": [
    "display(score)\n",
    "# dit geeft R^2 en dat is de accuraatheid van het model"
   ]
  },
  {
   "cell_type": "markdown",
   "id": "d1def7b0-055f-4d57-aaf3-58431a8d95fa",
   "metadata": {},
   "source": [
    "R^2 or R squared to look at the quality of the fit"
   ]
  },
  {
   "cell_type": "markdown",
   "id": "f481da8a-2d6e-473c-b54b-2476ad28e0d6",
   "metadata": {},
   "source": [
    "RMSE or Root Mean Squared Error is hoe ver prediction afzit van de werkelijke waarde.\n"
   ]
  },
  {
   "cell_type": "code",
   "execution_count": 108,
   "id": "a9dbeffc-1d98-42cb-85c2-fb573921a19f",
   "metadata": {},
   "outputs": [],
   "source": [
    "# Example code for next field\n",
    "# from sklearn.metrics import mean_squared_error\n",
    "# p_test = regr.predict(test.drop(columns=['lifespan','length','mass']))\n",
    " \n",
    "# mse = mean_squared_error(test.lifespan, p_test)\n",
    "# import math\n",
    "# rmse = (math.sqrt(mse))\n",
    "# print(rmse)"
   ]
  },
  {
   "cell_type": "code",
   "execution_count": 109,
   "id": "4f1df1d4-39c8-41f4-981e-bf634dcf9b6c",
   "metadata": {},
   "outputs": [
    {
     "name": "stdout",
     "output_type": "stream",
     "text": [
      "1.0739164342221432\n"
     ]
    }
   ],
   "source": [
    "# X_test heeft geen lifespan, dus drop hoeft niet\n",
    "# X_test.lifespan = y_test\n",
    "\n",
    "from sklearn.metrics import mean_squared_error\n",
    "p_test = regr.predict(X_test)\n",
    " \n",
    "mse = mean_squared_error(y_test, p_test)\n",
    "import math\n",
    "rmse = (math.sqrt(mse))\n",
    "print(rmse)"
   ]
  },
  {
   "cell_type": "code",
   "execution_count": 93,
   "id": "75d34908-7c48-45b5-8a99-f98ca84725e3",
   "metadata": {},
   "outputs": [
    {
     "data": {
      "text/html": [
       "<div>\n",
       "<style scoped>\n",
       "    .dataframe tbody tr th:only-of-type {\n",
       "        vertical-align: middle;\n",
       "    }\n",
       "\n",
       "    .dataframe tbody tr th {\n",
       "        vertical-align: top;\n",
       "    }\n",
       "\n",
       "    .dataframe thead th {\n",
       "        text-align: right;\n",
       "    }\n",
       "</style>\n",
       "<table border=\"1\" class=\"dataframe\">\n",
       "  <thead>\n",
       "    <tr style=\"text-align: right;\">\n",
       "      <th></th>\n",
       "      <th>genetic</th>\n",
       "      <th>length</th>\n",
       "      <th>mass</th>\n",
       "      <th>exercise</th>\n",
       "      <th>smoking</th>\n",
       "      <th>alcohol</th>\n",
       "      <th>sugar</th>\n",
       "      <th>BMI</th>\n",
       "    </tr>\n",
       "  </thead>\n",
       "  <tbody>\n",
       "    <tr>\n",
       "      <th>599</th>\n",
       "      <td>80.8</td>\n",
       "      <td>178.0</td>\n",
       "      <td>90.3</td>\n",
       "      <td>2.5</td>\n",
       "      <td>10.4</td>\n",
       "      <td>1.0</td>\n",
       "      <td>8.6</td>\n",
       "      <td>28.500189</td>\n",
       "    </tr>\n",
       "    <tr>\n",
       "      <th>752</th>\n",
       "      <td>67.3</td>\n",
       "      <td>174.0</td>\n",
       "      <td>135.3</td>\n",
       "      <td>5.3</td>\n",
       "      <td>0.1</td>\n",
       "      <td>5.3</td>\n",
       "      <td>10.9</td>\n",
       "      <td>44.688862</td>\n",
       "    </tr>\n",
       "    <tr>\n",
       "      <th>2016</th>\n",
       "      <td>80.0</td>\n",
       "      <td>208.0</td>\n",
       "      <td>54.6</td>\n",
       "      <td>0.9</td>\n",
       "      <td>3.7</td>\n",
       "      <td>3.8</td>\n",
       "      <td>6.7</td>\n",
       "      <td>12.620192</td>\n",
       "    </tr>\n",
       "    <tr>\n",
       "      <th>1001</th>\n",
       "      <td>96.6</td>\n",
       "      <td>196.0</td>\n",
       "      <td>98.2</td>\n",
       "      <td>4.3</td>\n",
       "      <td>13.9</td>\n",
       "      <td>1.8</td>\n",
       "      <td>7.1</td>\n",
       "      <td>25.562266</td>\n",
       "    </tr>\n",
       "    <tr>\n",
       "      <th>2514</th>\n",
       "      <td>78.6</td>\n",
       "      <td>193.0</td>\n",
       "      <td>128.7</td>\n",
       "      <td>2.3</td>\n",
       "      <td>3.3</td>\n",
       "      <td>0.1</td>\n",
       "      <td>3.8</td>\n",
       "      <td>34.551263</td>\n",
       "    </tr>\n",
       "    <tr>\n",
       "      <th>...</th>\n",
       "      <td>...</td>\n",
       "      <td>...</td>\n",
       "      <td>...</td>\n",
       "      <td>...</td>\n",
       "      <td>...</td>\n",
       "      <td>...</td>\n",
       "      <td>...</td>\n",
       "      <td>...</td>\n",
       "    </tr>\n",
       "    <tr>\n",
       "      <th>2840</th>\n",
       "      <td>84.8</td>\n",
       "      <td>205.0</td>\n",
       "      <td>139.4</td>\n",
       "      <td>0.7</td>\n",
       "      <td>8.7</td>\n",
       "      <td>0.5</td>\n",
       "      <td>8.6</td>\n",
       "      <td>33.170732</td>\n",
       "    </tr>\n",
       "    <tr>\n",
       "      <th>1420</th>\n",
       "      <td>76.6</td>\n",
       "      <td>181.0</td>\n",
       "      <td>54.9</td>\n",
       "      <td>3.0</td>\n",
       "      <td>5.5</td>\n",
       "      <td>0.3</td>\n",
       "      <td>7.5</td>\n",
       "      <td>16.757730</td>\n",
       "    </tr>\n",
       "    <tr>\n",
       "      <th>67</th>\n",
       "      <td>81.7</td>\n",
       "      <td>197.0</td>\n",
       "      <td>64.2</td>\n",
       "      <td>3.8</td>\n",
       "      <td>13.8</td>\n",
       "      <td>3.3</td>\n",
       "      <td>3.1</td>\n",
       "      <td>16.542555</td>\n",
       "    </tr>\n",
       "    <tr>\n",
       "      <th>3514</th>\n",
       "      <td>69.6</td>\n",
       "      <td>184.0</td>\n",
       "      <td>59.4</td>\n",
       "      <td>3.6</td>\n",
       "      <td>5.8</td>\n",
       "      <td>1.8</td>\n",
       "      <td>6.7</td>\n",
       "      <td>17.544896</td>\n",
       "    </tr>\n",
       "    <tr>\n",
       "      <th>2684</th>\n",
       "      <td>79.8</td>\n",
       "      <td>164.0</td>\n",
       "      <td>160.7</td>\n",
       "      <td>1.5</td>\n",
       "      <td>10.9</td>\n",
       "      <td>1.3</td>\n",
       "      <td>4.5</td>\n",
       "      <td>59.748662</td>\n",
       "    </tr>\n",
       "  </tbody>\n",
       "</table>\n",
       "<p>817 rows × 8 columns</p>\n",
       "</div>"
      ],
      "text/plain": [
       "      genetic  length   mass  exercise  smoking  alcohol  sugar        BMI\n",
       "599      80.8   178.0   90.3       2.5     10.4      1.0    8.6  28.500189\n",
       "752      67.3   174.0  135.3       5.3      0.1      5.3   10.9  44.688862\n",
       "2016     80.0   208.0   54.6       0.9      3.7      3.8    6.7  12.620192\n",
       "1001     96.6   196.0   98.2       4.3     13.9      1.8    7.1  25.562266\n",
       "2514     78.6   193.0  128.7       2.3      3.3      0.1    3.8  34.551263\n",
       "...       ...     ...    ...       ...      ...      ...    ...        ...\n",
       "2840     84.8   205.0  139.4       0.7      8.7      0.5    8.6  33.170732\n",
       "1420     76.6   181.0   54.9       3.0      5.5      0.3    7.5  16.757730\n",
       "67       81.7   197.0   64.2       3.8     13.8      3.3    3.1  16.542555\n",
       "3514     69.6   184.0   59.4       3.6      5.8      1.8    6.7  17.544896\n",
       "2684     79.8   164.0  160.7       1.5     10.9      1.3    4.5  59.748662\n",
       "\n",
       "[817 rows x 8 columns]"
      ]
     },
     "execution_count": 93,
     "metadata": {},
     "output_type": "execute_result"
    }
   ],
   "source": []
  },
  {
   "cell_type": "code",
   "execution_count": 62,
   "id": "43f4f04e-eee2-4558-93e2-a64b4dcbc741",
   "metadata": {},
   "outputs": [],
   "source": [
    "#Test met test_invoer: daarvoor neem je de gem waarden. je kan bij invoer ook de min en max aangeven\n",
    "\n",
    "genetic = 82.28 # min=63.90 max=102.20\n",
    "length = 183.89 # min = 154.00\n",
    "mass = 92.28\n",
    "alcohol = 2.27\n",
    "sugar = 6.49\n",
    "smoking = 9.81\n",
    "exercise = 2.40\n",
    "BMI = round(mass/((length/100)**2))"
   ]
  },
  {
   "cell_type": "code",
   "execution_count": 91,
   "id": "afaf3bac-b04d-40b8-9c78-2551863336d3",
   "metadata": {},
   "outputs": [],
   "source": [
    "X_input = [genetic, length, mass, exercise, smoking, alcohol, sugar, BMI]\n",
    "# dit moet een dict zijn met de {'colum':value, etc}"
   ]
  },
  {
   "cell_type": "code",
   "execution_count": 89,
   "id": "528f530c-afc1-4794-b3b4-8292211bd715",
   "metadata": {},
   "outputs": [
    {
     "name": "stdout",
     "output_type": "stream",
     "text": [
      "Coefficients: \n",
      " [[ 1.00124824 -0.05630156  0.05600071  0.803213   -0.26400501 -0.22066634\n",
      "  -0.07307898 -0.2572765 ]]\n",
      "b0 would be: [[11.73722495]]\n"
     ]
    },
    {
     "name": "stderr",
     "output_type": "stream",
     "text": [
      "/home/pans/miniconda3/envs/miw/lib/python3.10/site-packages/sklearn/base.py:420: UserWarning: X does not have valid feature names, but LinearRegression was fitted with feature names\n",
      "  warnings.warn(\n"
     ]
    }
   ],
   "source": [
    "#andere manier: X_input bepalen obv de coefficient\n",
    "# de coeff is de a in y = ax + b en b0 is de optesom van alle individuele b's in y = ax +b\n",
    "# y = a1x1 + a2x2 +... b0\n",
    "\n",
    "# The coefficients\n",
    "print('Coefficients: \\n', regr.coef_)\n",
    "print(f'b0 would be:',regr.predict([[0,0,0,0,0,0,0,0]]))\n",
    "\n",
    "# lifespan = genetic*1.00 + length*(-0.06) + etc"
   ]
  },
  {
   "cell_type": "code",
   "execution_count": 90,
   "id": "0c937f7e-0471-4cfc-8629-844ea7471319",
   "metadata": {},
   "outputs": [
    {
     "ename": "TypeError",
     "evalue": "can't multiply sequence by non-int of type 'list'",
     "output_type": "error",
     "traceback": [
      "\u001b[0;31m---------------------------------------------------------------------------\u001b[0m",
      "\u001b[0;31mTypeError\u001b[0m                                 Traceback (most recent call last)",
      "Cell \u001b[0;32mIn[90], line 8\u001b[0m\n\u001b[1;32m      1\u001b[0m \u001b[38;5;66;03m# df.keys().drop('index') * regr.coef_[0]\u001b[39;00m\n\u001b[1;32m      2\u001b[0m \n\u001b[1;32m      3\u001b[0m \n\u001b[0;32m   (...)\u001b[0m\n\u001b[1;32m      6\u001b[0m \n\u001b[1;32m      7\u001b[0m \u001b[38;5;66;03m# (list(df.keys().drop('index')))*(list(regr.coef_[0]))\u001b[39;00m\n\u001b[0;32m----> 8\u001b[0m lifespan \u001b[38;5;241m=\u001b[39m  \u001b[43mX_input\u001b[49m\u001b[43m \u001b[49m\u001b[38;5;241;43m*\u001b[39;49m\u001b[43m \u001b[49m\u001b[38;5;28;43mlist\u001b[39;49m\u001b[43m(\u001b[49m\u001b[43mregr\u001b[49m\u001b[38;5;241;43m.\u001b[39;49m\u001b[43mcoef_\u001b[49m\u001b[43m[\u001b[49m\u001b[38;5;241;43m0\u001b[39;49m\u001b[43m]\u001b[49m\u001b[43m)\u001b[49m\n",
      "\u001b[0;31mTypeError\u001b[0m: can't multiply sequence by non-int of type 'list'"
     ]
    }
   ],
   "source": [
    "# df.keys().drop('index') * regr.coef_[0]\n",
    "\n",
    "\n",
    "# list(df.keys().drop('index'))\n",
    "# list(regr.coef_[0])\n",
    "\n",
    "# (list(df.keys().drop('index')))*(list(regr.coef_[0]))\n",
    "lifespan =  X_input * list(regr.coef_[0])"
   ]
  },
  {
   "cell_type": "code",
   "execution_count": null,
   "id": "0ea3153d-9b89-43ca-a857-72c626225e1c",
   "metadata": {},
   "outputs": [],
   "source": []
  },
  {
   "cell_type": "code",
   "execution_count": 59,
   "id": "33a40fdb-9014-477b-93af-f4fca4cd7bb2",
   "metadata": {},
   "outputs": [
    {
     "data": {
      "text/plain": [
       "index       2046.673115\n",
       "genetic       82.278624\n",
       "length       183.885162\n",
       "mass          92.275930\n",
       "exercise       2.403477\n",
       "smoking        9.809035\n",
       "alcohol        2.266846\n",
       "lifespan      80.177693\n",
       "sugar          6.487169\n",
       "BMI           27.682015\n",
       "dtype: float64"
      ]
     },
     "execution_count": 59,
     "metadata": {},
     "output_type": "execute_result"
    }
   ],
   "source": [
    "df.mean()"
   ]
  },
  {
   "cell_type": "code",
   "execution_count": null,
   "id": "2d894660-1e67-4178-aadf-cec5baf98a45",
   "metadata": {},
   "outputs": [],
   "source": [
    "df.describe()"
   ]
  },
  {
   "cell_type": "code",
   "execution_count": null,
   "id": "ab596b88-b72d-4807-8e57-2e8fe7da2505",
   "metadata": {},
   "outputs": [],
   "source": [
    "p_input = regr.predict(X_input)"
   ]
  },
  {
   "cell_type": "code",
   "execution_count": null,
   "id": "c2d5a438-6687-4acc-a68f-f88c6a53bc4f",
   "metadata": {},
   "outputs": [],
   "source": []
  },
  {
   "cell_type": "code",
   "execution_count": null,
   "id": "27d61d4f-a7f7-48b1-b696-8a59886a982c",
   "metadata": {},
   "outputs": [],
   "source": []
  }
 ],
 "metadata": {
  "kernelspec": {
   "display_name": "Python 3 (ipykernel)",
   "language": "python",
   "name": "python3"
  },
  "language_info": {
   "codemirror_mode": {
    "name": "ipython",
    "version": 3
   },
   "file_extension": ".py",
   "mimetype": "text/x-python",
   "name": "python",
   "nbconvert_exporter": "python",
   "pygments_lexer": "ipython3",
   "version": "3.10.9"
  }
 },
 "nbformat": 4,
 "nbformat_minor": 5
}
