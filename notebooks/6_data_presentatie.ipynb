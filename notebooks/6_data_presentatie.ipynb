{
 "cells": [
  {
   "cell_type": "markdown",
   "id": "6d4180ca-8fe2-4307-9d09-07174e10ff7f",
   "metadata": {},
   "source": [
    "<div>\n",
    "    <em><h1>Health Marketing</h1></em>\n",
    "    <img width=\"10%\" height=\"10%\" src='pics/aiHealth_01.jpg'/>\n",
    "    \n",
    "    \n",
    "</div>\n",
    "<div>\n",
    "    <p>\n",
    "    <em>Stap 6:</em>\n",
    "    <br>\n",
    "    <em>Data presentatie: command line interface</em>\n",
    "        <br>\n",
    "    <em>Author: Hans Olthoff</em>\n",
    "    </p>    \n",
    "</div>"
   ]
  },
  {
   "cell_type": "code",
   "execution_count": 2,
   "id": "8654cb02-6e4a-47ed-8ded-9daaceb958b4",
   "metadata": {},
   "outputs": [],
   "source": [
    "import sqlite3\n",
    "import pandas as pd\n",
    "import numpy as np\n",
    "import seaborn as sns\n",
    "import matplotlib.pyplot as plt\n",
    "%matplotlib inline\n",
    "sns.set(color_codes=True)\n",
    "\n",
    "from sklearn import linear_model \n",
    "from sklearn.model_selection import train_test_split\n",
    "from sklearn.metrics import mean_squared_error\n",
    "import math\n",
    "\n",
    "import logging\n",
    "import pickle"
   ]
  },
  {
   "cell_type": "code",
   "execution_count": 3,
   "id": "7d7fc2d6-c090-4c5d-9268-88aadb215d2c",
   "metadata": {},
   "outputs": [],
   "source": [
    "with open(\"data/regr_model_2.pkl\", \"rb\") as f:\n",
    "    regr = pickle.load(f)\n"
   ]
  },
  {
   "cell_type": "code",
   "execution_count": 4,
   "id": "fa2e4bef-1379-40bf-80e1-90193149afda",
   "metadata": {},
   "outputs": [],
   "source": [
    "genetic = 82.28 # min=63.90 max=102.20\n",
    "length = 183.89 # min = 154.00 max = etc\n",
    "mass = 92.28\n",
    "alcohol = 2.27\n",
    "sugar = 6.49\n",
    "smoking = 9.81\n",
    "exercise = 2.40\n",
    "divider = pow(length/100, 2) if length >0 else None\n",
    "BMI = round(mass/divider)\n",
    "logging.debug(f'BMI: {BMI}') "
   ]
  },
  {
   "cell_type": "code",
   "execution_count": 5,
   "id": "76e55496-5294-49e8-8190-05e1b09c9935",
   "metadata": {},
   "outputs": [
    {
     "name": "stderr",
     "output_type": "stream",
     "text": [
      "/home/pans/miniconda3/envs/miw/lib/python3.10/site-packages/sklearn/base.py:420: UserWarning: X does not have valid feature names, but LinearRegression was fitted with feature names\n",
      "  warnings.warn(\n"
     ]
    },
    {
     "data": {
      "text/plain": [
       "array([[79.65704281]])"
      ]
     },
     "metadata": {},
     "output_type": "display_data"
    }
   ],
   "source": [
    "# Test met gemiddelde waarden:\n",
    "\n",
    "lifespan_predict = regr.predict([[genetic, length, mass, alcohol, sugar, smoking, exercise, BMI]])\n",
    "display(lifespan_predict)"
   ]
  },
  {
   "cell_type": "code",
   "execution_count": null,
   "id": "edcab215-6007-4026-abbf-3aa27c79faae",
   "metadata": {},
   "outputs": [],
   "source": []
  },
  {
   "cell_type": "code",
   "execution_count": 9,
   "id": "54cf6940-083f-4c29-bc27-66062359f3a7",
   "metadata": {},
   "outputs": [
    {
     "name": "stdout",
     "output_type": "stream",
     "text": [
      "Please enter three numbers:\n"
     ]
    },
    {
     "name": "stdin",
     "output_type": "stream",
     "text": [
      " 3\n",
      " 4\n",
      " 5\n"
     ]
    },
    {
     "ename": "TypeError",
     "evalue": "unsupported operand type(s) for +: 'int' and 'str'",
     "output_type": "error",
     "traceback": [
      "\u001b[0;31m---------------------------------------------------------------------------\u001b[0m",
      "\u001b[0;31mTypeError\u001b[0m                                 Traceback (most recent call last)",
      "Cell \u001b[0;32mIn[9], line 8\u001b[0m\n\u001b[1;32m      5\u001b[0m     c \u001b[38;5;241m=\u001b[39m \u001b[38;5;28minput\u001b[39m()\n\u001b[1;32m      6\u001b[0m     \u001b[38;5;28;01mreturn\u001b[39;00m \u001b[38;5;28msum\u001b[39m((a,b,c)) \u001b[38;5;66;03m# a+b+c\u001b[39;00m\n\u001b[0;32m----> 8\u001b[0m \u001b[38;5;28mprint\u001b[39m(\u001b[43msum3\u001b[49m\u001b[43m(\u001b[49m\u001b[43m)\u001b[49m)\n",
      "Cell \u001b[0;32mIn[9], line 6\u001b[0m, in \u001b[0;36msum3\u001b[0;34m()\u001b[0m\n\u001b[1;32m      4\u001b[0m b \u001b[38;5;241m=\u001b[39m \u001b[38;5;28minput\u001b[39m()\n\u001b[1;32m      5\u001b[0m c \u001b[38;5;241m=\u001b[39m \u001b[38;5;28minput\u001b[39m()\n\u001b[0;32m----> 6\u001b[0m \u001b[38;5;28;01mreturn\u001b[39;00m \u001b[38;5;28;43msum\u001b[39;49m\u001b[43m(\u001b[49m\u001b[43m(\u001b[49m\u001b[43ma\u001b[49m\u001b[43m,\u001b[49m\u001b[43mb\u001b[49m\u001b[43m,\u001b[49m\u001b[43mc\u001b[49m\u001b[43m)\u001b[49m\u001b[43m)\u001b[49m\n",
      "\u001b[0;31mTypeError\u001b[0m: unsupported operand type(s) for +: 'int' and 'str'"
     ]
    }
   ],
   "source": [
    "def sum3():\n",
    "    print (\"Please enter three numbers:\")\n",
    "    a = input()\n",
    "    b = input()\n",
    "    c = input()\n",
    "    return sum((a,b,c)) # a+b+c\n",
    "\n",
    "print(sum3()) # asks for input then prints result.\n"
   ]
  },
  {
   "cell_type": "code",
   "execution_count": null,
   "id": "582b2ba7-6af0-4d5d-ac3a-11433bf3f675",
   "metadata": {},
   "outputs": [],
   "source": []
  }
 ],
 "metadata": {
  "kernelspec": {
   "display_name": "Python 3 (ipykernel)",
   "language": "python",
   "name": "python3"
  },
  "language_info": {
   "codemirror_mode": {
    "name": "ipython",
    "version": 3
   },
   "file_extension": ".py",
   "mimetype": "text/x-python",
   "name": "python",
   "nbconvert_exporter": "python",
   "pygments_lexer": "ipython3",
   "version": "3.10.9"
  }
 },
 "nbformat": 4,
 "nbformat_minor": 5
}
