{
 "cells": [
  {
   "cell_type": "markdown",
   "id": "6d4180ca-8fe2-4307-9d09-07174e10ff7f",
   "metadata": {},
   "source": [
    "<div>\n",
    "    <em><h1>Health Marketing</h1></em>\n",
    "    <img width=\"10%\" height=\"10%\" src='pics/aiHealth_01.jpg'/>\n",
    "    \n",
    "    \n",
    "</div>\n",
    "<div>\n",
    "    <p>\n",
    "    <em>Stap 6:</em>\n",
    "    <br>\n",
    "    <em>Data presentatie: command line interface</em>\n",
    "        <br>\n",
    "    <em>Author: Hans Olthoff</em>\n",
    "    </p>    \n",
    "</div>"
   ]
  },
  {
   "cell_type": "code",
   "execution_count": 1,
   "id": "8654cb02-6e4a-47ed-8ded-9daaceb958b4",
   "metadata": {},
   "outputs": [],
   "source": [
    "import sqlite3\n",
    "import pandas as pd\n",
    "import numpy as np\n",
    "import seaborn as sns\n",
    "import matplotlib.pyplot as plt\n",
    "%matplotlib inline\n",
    "sns.set(color_codes=True)\n",
    "\n",
    "from sklearn import linear_model \n",
    "from sklearn.model_selection import train_test_split\n",
    "from sklearn.metrics import mean_squared_error\n",
    "import math\n",
    "\n",
    "import logging\n",
    "import pickle"
   ]
  },
  {
   "cell_type": "code",
   "execution_count": 2,
   "id": "7d7fc2d6-c090-4c5d-9268-88aadb215d2c",
   "metadata": {},
   "outputs": [],
   "source": [
    "with open(\"data/regr_model_2.pkl\", \"rb\") as f:\n",
    "    regr = pickle.load(f)\n"
   ]
  },
  {
   "cell_type": "code",
   "execution_count": 9,
   "id": "fa2e4bef-1379-40bf-80e1-90193149afda",
   "metadata": {},
   "outputs": [],
   "source": [
    "genetic = 82.28 # min=63.90 max=102.20\n",
    "length = 183.89 # min = 154.00 max = etc\n",
    "mass = 92.28\n",
    "exercise = 2.40\n",
    "smoking = 9.81\n",
    "alcohol = 2.27\n",
    "sugar = 6.49\n",
    "\n",
    "\n",
    "divider = pow(length/100, 2) if length >0 else None\n",
    "bmi = round(mass/divider)\n",
    "logging.debug(f'BMI: {bmi}') "
   ]
  },
  {
   "cell_type": "code",
   "execution_count": 10,
   "id": "76e55496-5294-49e8-8190-05e1b09c9935",
   "metadata": {},
   "outputs": [
    {
     "name": "stderr",
     "output_type": "stream",
     "text": [
      "/home/pans/miniconda3/envs/miw/lib/python3.10/site-packages/sklearn/base.py:420: UserWarning: X does not have valid feature names, but LinearRegression was fitted with feature names\n",
      "  warnings.warn(\n"
     ]
    },
    {
     "data": {
      "text/plain": [
       "array([[80.35308051]])"
      ]
     },
     "metadata": {},
     "output_type": "display_data"
    }
   ],
   "source": [
    "# Test met gemiddelde waarden:\n",
    "\n",
    "lifespan_predict = regr.predict([[genetic, length, mass, exercise, smoking, alcohol, sugar, bmi]])\n",
    "display(lifespan_predict)"
   ]
  },
  {
   "cell_type": "markdown",
   "id": "cdc8875f-724e-4dde-b2ff-7c6735b63619",
   "metadata": {},
   "source": [
    "Functie om grenzen te bepalen aan input en input te verifieren"
   ]
  },
  {
   "cell_type": "code",
   "execution_count": 13,
   "id": "54cf6940-083f-4c29-bc27-66062359f3a7",
   "metadata": {},
   "outputs": [],
   "source": [
    "def inputDigit(message, acceptableRange):\n",
    "    inputStr = str()\n",
    "    withinRange = False\n",
    "    numberOfTries = 3\n",
    "    i = 0\n",
    "\n",
    "    while not (inputStr.isdigit() and withinRange) and i < numberOfTries:\n",
    "        inputStr = input(message)\n",
    "\n",
    "        if inputStr.isdigit():\n",
    "            inputNum = float(inputStr)\n",
    "\n",
    "            if inputNum in acceptableRange:\n",
    "                return inputNum\n",
    "\n",
    "        i += 1"
   ]
  },
  {
   "cell_type": "code",
   "execution_count": 22,
   "id": "582b2ba7-6af0-4d5d-ac3a-11433bf3f675",
   "metadata": {},
   "outputs": [
    {
     "name": "stdin",
     "output_type": "stream",
     "text": [
      "Genetic Age [18 - 118]:  12\n",
      "Genetic Age [18 - 118]:  120\n",
      "Genetic Age [18 - 118]:  78\n"
     ]
    }
   ],
   "source": [
    "# arange is de acceptableRange \n",
    "ar_genetic = range(18, 118)\n",
    "genetic = int(inputDigit('Genetic Age [18 - 118]: ', ar_genetic))"
   ]
  },
  {
   "cell_type": "code",
   "execution_count": 21,
   "id": "306b677b-bfd2-4f9f-bdb0-9a614806d20d",
   "metadata": {},
   "outputs": [
    {
     "name": "stdout",
     "output_type": "stream",
     "text": [
      "78\n"
     ]
    }
   ],
   "source": [
    "print(genetic)"
   ]
  },
  {
   "cell_type": "code",
   "execution_count": null,
   "id": "39647c52-88f6-4de7-ba0e-6f76275a5b0a",
   "metadata": {},
   "outputs": [],
   "source": []
  },
  {
   "cell_type": "code",
   "execution_count": null,
   "id": "4942015f-79dd-4c33-87b3-417b35799cdf",
   "metadata": {},
   "outputs": [],
   "source": []
  },
  {
   "cell_type": "code",
   "execution_count": null,
   "id": "cfd19e89-8f06-4cf2-97c0-aad83403fd23",
   "metadata": {},
   "outputs": [],
   "source": []
  }
 ],
 "metadata": {
  "kernelspec": {
   "display_name": "Python 3 (ipykernel)",
   "language": "python",
   "name": "python3"
  },
  "language_info": {
   "codemirror_mode": {
    "name": "ipython",
    "version": 3
   },
   "file_extension": ".py",
   "mimetype": "text/x-python",
   "name": "python",
   "nbconvert_exporter": "python",
   "pygments_lexer": "ipython3",
   "version": "3.10.9"
  }
 },
 "nbformat": 4,
 "nbformat_minor": 5
}
